{
 "cells": [
  {
   "cell_type": "markdown",
   "metadata": {},
   "source": [
    "# Получение данных из разных источников и хранение в разных БД\n",
    "\n",
    "Задачи:\n",
    "\n",
    "1. [+] Обработка YAML-файла настроек: проверка, создание, чтение.\n",
    "2. [+] Скачивание архива Quandl.WIKI и парсинг.\n",
    "3. [+] Класс для работы с HDF5.\n",
    "4. [+] Запись цен в БД, обновление и чтение.\n",
    "5. [+] Класс работы с IEX.\n",
    "6. [-] Класс работы с MySQL.\n",
    "7. [-] Класс работы с PostgreSQL."
   ]
  },
  {
   "cell_type": "code",
   "execution_count": 1,
   "metadata": {
    "collapsed": true
   },
   "outputs": [],
   "source": [
    "import os.path\n",
    "import io\n",
    "import yaml\n",
    "import numpy as np\n",
    "import pandas as pd\n",
    "import tqdm\n",
    "import aiohttp\n",
    "import asyncio\n",
    "import zipfile\n",
    "from datetime import date\n"
   ]
  },
  {
   "cell_type": "markdown",
   "metadata": {},
   "source": [
    "# Настройки"
   ]
  },
  {
   "cell_type": "code",
   "execution_count": 2,
   "metadata": {
    "collapsed": true
   },
   "outputs": [],
   "source": [
    "class Config(object):\n",
    "    \n",
    "    filename = None\n",
    "    settings = {}\n",
    "    def __init__(self, filename='config.yaml', edit=False):\n",
    "        self.filename = filename\n",
    "        \n",
    "        # file exists\n",
    "        if not os.path.isfile(self.filename) or edit:\n",
    "            self.create_config()\n",
    "        else:\n",
    "            with open(self.filename, 'r') as f:\n",
    "                self.settings = yaml.load(f)\n",
    "                print('Settings loaded.')\n",
    "                \n",
    "        print(self.settings)\n",
    "                \n",
    "    def create_config(self):\n",
    "        options = {\n",
    "            'quandl-api': 'Your API key in Quandl: ',\n",
    "            'quandl-full-zip': 'Filename in which download prices from Quandl (quandl-full.zip): ',\n",
    "            'hdf-storage': 'Filename of your HDF5-storage (storage.h5): ',\n",
    "        }\n",
    "        print('Fill settings, please.')\n",
    "        for n, desc in options.items():\n",
    "            self.settings[n] = input(desc)\n",
    "        \n",
    "        if not self.settings['quandl-full-zip']:\n",
    "            self.settings['quandl-full-zip'] = 'quandl-full.zip'\n",
    "            \n",
    "        if not self.settings['hdf-storage']:\n",
    "            self.settings['hdf-storage'] = 'storage.h5'\n",
    "        \n",
    "        with open(self.filename, 'w') as f:\n",
    "            yaml.dump(self.settings, f)\n",
    "            print('Settings saved in {0}.'.format(self.filename))\n",
    "            "
   ]
  },
  {
   "cell_type": "code",
   "execution_count": 3,
   "metadata": {},
   "outputs": [
    {
     "name": "stdout",
     "output_type": "stream",
     "text": [
      "Settings loaded.\n",
      "{'quandl-api': 'Mco3q1YVma1jfgbqbHqo', 'quandl-full-zip': 'quandl-full.zip', 'hdf-storage': 'storage.h5'}\n"
     ]
    }
   ],
   "source": [
    "config = Config()"
   ]
  },
  {
   "cell_type": "markdown",
   "metadata": {},
   "source": [
    "# Хранилище HDF5"
   ]
  },
  {
   "cell_type": "code",
   "execution_count": 4,
   "metadata": {
    "collapsed": true
   },
   "outputs": [],
   "source": [
    "class StorageHDF(object):\n",
    "    settings = None\n",
    "    prefix = ''\n",
    "    \n",
    "    def __init__(self, settings, prefix='', debug=False):\n",
    "        self.settings = settings\n",
    "        \n",
    "        self.hdf = pd.HDFStore(self.settings['hdf-storage'])\n",
    "        self.prefix = prefix\n",
    "        self.debug = debug\n",
    "        \n",
    "    def close(self):\n",
    "        self.hdf.close()\n",
    "    \n",
    "    def save(self, key, data):\n",
    "        if data.empty:\n",
    "            if self.debug:\n",
    "                print('Income data is empty.')\n",
    "            return\n",
    "                \n",
    "        db_key = self.prefix + '/' + key\n",
    "        \n",
    "        self.hdf.put(db_key, data, format='table', data_columns=True)\n",
    "    \n",
    "    def save_symbols(self, data):\n",
    "        db_key = self.prefix + '/symbols'\n",
    "        self.hdf.put(db_key, pd.Series(data), format='table', data_columns=True)\n",
    "    \n",
    "    def get_symbols(self):\n",
    "        db_key = self.prefix + '/symbols'\n",
    "        return self.hdf[db_key].values\n",
    "    \n",
    "    def read(self, symbols=[], start=None, end=date.today()):\n",
    "        data = {}\n",
    "        if not len(symbols):\n",
    "            return data\n",
    "        else:\n",
    "            for s in symbols:\n",
    "                db_key = self.prefix + '/' + s\n",
    "                \n",
    "                if db_key in self.hdf:\n",
    "                    data[s] = self.hdf[db_key]\n",
    "        return data\n",
    "    \n",
    "    def drop(self, key):\n",
    "        db_key = self.prefix + '/' + key\n",
    "        if db_key in self.hdf:\n",
    "            del self.hdf[db_key]\n",
    "            \n",
    "    def close(self):\n",
    "        self.hdf.close()\n"
   ]
  },
  {
   "cell_type": "markdown",
   "metadata": {},
   "source": [
    "# Скачиваем цены с Quandl"
   ]
  },
  {
   "cell_type": "code",
   "execution_count": 5,
   "metadata": {
    "collapsed": true
   },
   "outputs": [],
   "source": [
    "class QuandlBundle(object):\n",
    "    loop = None\n",
    "    settings = {}\n",
    "    def __init__(self, settings, loop=None):\n",
    "        self.settings = settings\n",
    "        self.loop = loop\n",
    "        \n",
    "        if not self.loop:\n",
    "            self.loop = asyncio.get_event_loop()\n",
    "            \n",
    "    async def download(self, url, filename=None):\n",
    "        print('download', url, filename)        \n",
    "        \n",
    "        async with aiohttp.ClientSession() as ses:\n",
    "            async with ses.get(url) as resp:\n",
    "                if resp.status < 300:\n",
    "                    if filename:\n",
    "                        with open(filename, 'wb') as fd:\n",
    "                            total_size = int(resp.headers.get('content-length', 0));\n",
    "                            chunk_size = 4096\n",
    "                            bar = tqdm.tqdm(total=total_size)\n",
    "                            while True:\n",
    "                                chunk = await resp.content.read(chunk_size)                                \n",
    "                                if not chunk:\n",
    "                                    break\n",
    "                                fd.write(chunk)\n",
    "                                bar.update(chunk_size)\n",
    "                            bar.close()\n",
    "                        return True\n",
    "                    else:\n",
    "                        return await resp.json()\n",
    "     \n",
    "    async def _async_get_full(self):\n",
    "        # download urls\n",
    "        url = 'https://www.quandl.com/api/v3/datatables/WIKI/PRICES/delta.json?api_key={0}'.format(\n",
    "            self.settings['quandl-api'])\n",
    "        urls = await self.download(url)\n",
    "\n",
    "        if urls['data']['latest_full_data']:\n",
    "            url = urls['data']['latest_full_data']['full_data']\n",
    "            if not await self.download(url, self.settings['quandl-full-zip']):\n",
    "                print('Error: Data was not downloaded.')\n",
    "            else:\n",
    "                print('Data succesfully downloaded to {0}.'.format(self.settings['quandl-full-zip']))\n",
    "\n",
    "    def get_full(self):       \n",
    "        self.loop.run_until_complete(self._async_get_full())\n",
    "\n",
    "    def parse_to_dataframe(self):\n",
    "        fn = self.settings['quandl-full-zip']\n",
    "        # file exists\n",
    "        if not os.path.isfile(fn):\n",
    "            self.get_full()\n",
    "        \n",
    "        with zipfile.ZipFile(fn) as opened_zip:\n",
    "            with opened_zip.open(opened_zip.namelist()[0]) as prices_file:\n",
    "                df = pd.read_csv(io.TextIOWrapper(prices_file))\n",
    "\n",
    "        cols = ['ticker', 'date', 'open', 'high', 'low', 'close', 'volume', 'adj_close']\n",
    "        return df[cols]\n",
    "    \n",
    "    def save_to_db(self, storage, limit=None):\n",
    "        df = self.parse_to_dataframe()\n",
    "        \n",
    "        storage.save_symbols(df['ticker'].unique())\n",
    "        for s in tqdm.tqdm(df['ticker'].unique()):\n",
    "            fltr = df['ticker'] == s    \n",
    "            storage.save(s, df[fltr].set_index('date'))\n",
    "            \n",
    "            if limit is not None:\n",
    "                limit -= 1\n",
    "                if limit < 0:\n",
    "                    break"
   ]
  },
  {
   "cell_type": "code",
   "execution_count": 6,
   "metadata": {},
   "outputs": [
    {
     "name": "stderr",
     "output_type": "stream",
     "text": [
      "  3%|▎         | 100/3190 [02:00<1:02:09,  1.21s/it]"
     ]
    }
   ],
   "source": [
    "qb = QuandlBundle(config.settings)\n",
    "#qb.get_full()\n",
    "#df = qb.parse_to_dataframe()\n",
    "storage = StorageHDF(config.settings, prefix='Quandl', debug=True)\n",
    "qb.save_to_db(storage, limit=100)"
   ]
  },
  {
   "cell_type": "code",
   "execution_count": 7,
   "metadata": {},
   "outputs": [
    {
     "data": {
      "text/plain": [
       "(array(['A', 'AA'], dtype=object),\n",
       "            ticker   open   high    low  close     volume  adj_close\n",
       " date                                                               \n",
       " 2017-07-17      A  61.60  61.84  61.40  61.55  1332749.0      61.55\n",
       " 2017-07-18      A  61.43  61.54  60.95  61.21  1520053.0      61.21\n",
       " 2017-07-19      A  61.32  61.64  61.17  61.38  1509141.0      61.38\n",
       " 2017-07-20      A  61.45  61.55  60.81  60.98  1925629.0      60.98\n",
       " 2017-07-21      A  60.83  61.60  60.76  61.37  1275630.0      61.37)"
      ]
     },
     "execution_count": 7,
     "metadata": {},
     "output_type": "execute_result"
    }
   ],
   "source": [
    "symbols = storage.get_symbols()[:2]\n",
    "\n",
    "data = storage.read(symbols=symbols)\n",
    "symbols, data[symbols[0]].tail()"
   ]
  },
  {
   "cell_type": "markdown",
   "metadata": {
    "collapsed": true
   },
   "source": [
    "# Скачиваем цены с IEX\n",
    "\n",
    "API: https://www.iextrading.com/developer/docs/\n",
    "\n",
    "Symbols: https://api.iextrading.com/1.0/ref-data/symbols\n",
    "\n",
    "5-years prices: https://api.iextrading.com/1.0/stock/aapl/chart/5y"
   ]
  },
  {
   "cell_type": "code",
   "execution_count": 6,
   "metadata": {
    "collapsed": true
   },
   "outputs": [],
   "source": [
    "class IEXPrices(object):\n",
    "    loop = None\n",
    "    settings = {}\n",
    "    limit = None\n",
    "    symbols = None\n",
    "    data = {}\n",
    "    def __init__(self, settings, loop=None):\n",
    "        self.settings = settings\n",
    "        self.loop = loop\n",
    "        \n",
    "        if not self.loop:\n",
    "            self.loop = asyncio.get_event_loop()\n",
    "            \n",
    "    async def download(self, url):\n",
    "        #print('download', url)        \n",
    "        \n",
    "        async with aiohttp.ClientSession() as ses:\n",
    "            async with ses.get(url) as resp:\n",
    "                if resp.status < 300:\n",
    "                    return await resp.json()\n",
    "     \n",
    "    async def _async_get(self):\n",
    "        # download symbols\n",
    "        url = 'https://api.iextrading.com/1.0/ref-data/symbols'\n",
    "        self.symbols = pd.DataFrame(await self.download(url))\n",
    "\n",
    "        cols = ['date', 'open', 'high', 'low', 'close', 'volume', 'unadjustedClose']\n",
    "        \n",
    "        if len(self.symbols):\n",
    "            for s in tqdm.tqdm(self.symbols['symbol'].values):\n",
    "                url = 'https://api.iextrading.com/1.0/stock/{0}/chart/5y'.format(s)\n",
    "                self.data[s] = pd.DataFrame(await self.download(url))[cols]\n",
    "                \n",
    "                if self.limit is not None:\n",
    "                    self.limit -= 1\n",
    "                    if self.limit < 0:\n",
    "                        break\n",
    "\n",
    "    def get_prices(self):       \n",
    "        self.loop.run_until_complete(self._async_get())\n",
    "        \n",
    "        return self.data\n",
    "\n",
    "    def save_to_db(self, storage, limit=None):\n",
    "        self.limit = limit\n",
    "        self.get_prices()\n",
    "        \n",
    "        storage.save_symbols(list(self.data.keys()))\n",
    "        for s in tqdm.tqdm(self.data.keys()):            \n",
    "            storage.save(s, self.data[s].set_index('date'))            \n",
    "            "
   ]
  },
  {
   "cell_type": "code",
   "execution_count": 7,
   "metadata": {},
   "outputs": [
    {
     "name": "stderr",
     "output_type": "stream",
     "text": [
      "  0%|          | 10/8440 [00:16<4:36:30,  1.97s/it]\n",
      "  0%|          | 0/11 [00:00<?, ?it/s]\u001b[A\n",
      " 18%|█▊        | 2/11 [00:00<00:00, 16.84it/s]\u001b[A\n",
      " 36%|███▋      | 4/11 [00:00<00:00, 16.59it/s]\u001b[A\n",
      " 55%|█████▍    | 6/11 [00:00<00:00, 16.32it/s]\u001b[A\n",
      " 73%|███████▎  | 8/11 [00:00<00:00, 16.17it/s]\u001b[A\n",
      " 91%|█████████ | 10/11 [00:00<00:00, 15.83it/s]\u001b[A\n",
      "100%|██████████| 11/11 [00:00<00:00, 15.89it/s]\u001b[A"
     ]
    }
   ],
   "source": [
    "iex = IEXPrices(config.settings)\n",
    "\n",
    "storage = StorageHDF(config.settings, prefix='IEX', debug=True)\n",
    "iex.save_to_db(storage, limit=10)"
   ]
  },
  {
   "cell_type": "code",
   "execution_count": 9,
   "metadata": {},
   "outputs": [
    {
     "data": {
      "text/html": [
       "<div>\n",
       "<style>\n",
       "    .dataframe thead tr:only-child th {\n",
       "        text-align: right;\n",
       "    }\n",
       "\n",
       "    .dataframe thead th {\n",
       "        text-align: left;\n",
       "    }\n",
       "\n",
       "    .dataframe tbody tr th {\n",
       "        vertical-align: top;\n",
       "    }\n",
       "</style>\n",
       "<table border=\"1\" class=\"dataframe\">\n",
       "  <thead>\n",
       "    <tr style=\"text-align: right;\">\n",
       "      <th></th>\n",
       "      <th>open</th>\n",
       "      <th>high</th>\n",
       "      <th>low</th>\n",
       "      <th>close</th>\n",
       "      <th>volume</th>\n",
       "      <th>unadjustedClose</th>\n",
       "    </tr>\n",
       "    <tr>\n",
       "      <th>date</th>\n",
       "      <th></th>\n",
       "      <th></th>\n",
       "      <th></th>\n",
       "      <th></th>\n",
       "      <th></th>\n",
       "      <th></th>\n",
       "    </tr>\n",
       "  </thead>\n",
       "  <tbody>\n",
       "    <tr>\n",
       "      <th>2017-07-17</th>\n",
       "      <td>54.21</td>\n",
       "      <td>54.28</td>\n",
       "      <td>53.85</td>\n",
       "      <td>53.87</td>\n",
       "      <td>3727804</td>\n",
       "      <td>53.87</td>\n",
       "    </tr>\n",
       "    <tr>\n",
       "      <th>2017-07-18</th>\n",
       "      <td>53.83</td>\n",
       "      <td>53.84</td>\n",
       "      <td>53.02</td>\n",
       "      <td>53.15</td>\n",
       "      <td>4101431</td>\n",
       "      <td>53.15</td>\n",
       "    </tr>\n",
       "    <tr>\n",
       "      <th>2017-07-19</th>\n",
       "      <td>52.26</td>\n",
       "      <td>53.19</td>\n",
       "      <td>51.78</td>\n",
       "      <td>52.61</td>\n",
       "      <td>5774713</td>\n",
       "      <td>52.61</td>\n",
       "    </tr>\n",
       "    <tr>\n",
       "      <th>2017-07-20</th>\n",
       "      <td>52.72</td>\n",
       "      <td>52.78</td>\n",
       "      <td>52.10</td>\n",
       "      <td>52.34</td>\n",
       "      <td>4836234</td>\n",
       "      <td>52.34</td>\n",
       "    </tr>\n",
       "    <tr>\n",
       "      <th>2017-07-21</th>\n",
       "      <td>52.13</td>\n",
       "      <td>52.55</td>\n",
       "      <td>51.45</td>\n",
       "      <td>51.91</td>\n",
       "      <td>4544423</td>\n",
       "      <td>51.91</td>\n",
       "    </tr>\n",
       "  </tbody>\n",
       "</table>\n",
       "</div>"
      ],
      "text/plain": [
       "             open   high    low  close   volume  unadjustedClose\n",
       "date                                                            \n",
       "2017-07-17  54.21  54.28  53.85  53.87  3727804            53.87\n",
       "2017-07-18  53.83  53.84  53.02  53.15  4101431            53.15\n",
       "2017-07-19  52.26  53.19  51.78  52.61  5774713            52.61\n",
       "2017-07-20  52.72  52.78  52.10  52.34  4836234            52.34\n",
       "2017-07-21  52.13  52.55  51.45  51.91  4544423            51.91"
      ]
     },
     "execution_count": 9,
     "metadata": {},
     "output_type": "execute_result"
    }
   ],
   "source": [
    "storage.get_symbols()\n",
    "storage.read(symbols=['AAL'])['AAL'].tail(5)"
   ]
  },
  {
   "cell_type": "code",
   "execution_count": null,
   "metadata": {
    "collapsed": true
   },
   "outputs": [],
   "source": []
  }
 ],
 "metadata": {
  "kernelspec": {
   "display_name": "Python 3",
   "language": "python",
   "name": "python3"
  },
  "language_info": {
   "codemirror_mode": {
    "name": "ipython",
    "version": 3
   },
   "file_extension": ".py",
   "mimetype": "text/x-python",
   "name": "python",
   "nbconvert_exporter": "python",
   "pygments_lexer": "ipython3",
   "version": "3.5.1+"
  }
 },
 "nbformat": 4,
 "nbformat_minor": 2
}
